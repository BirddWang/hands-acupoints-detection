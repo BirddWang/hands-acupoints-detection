{
 "cells": [
  {
   "cell_type": "code",
   "execution_count": 1,
   "metadata": {},
   "outputs": [],
   "source": [
    "import os\n",
    "import random\n",
    "import shutil\n",
    "\n",
    "train_images_dir = \"datasets/Train/images\"\n",
    "train_labels_dir = \"datasets/Train/labels\"\n",
    "val_images_dir = \"datasets/Val/images\"\n",
    "val_labels_dir = \"datasets/Val/labels\""
   ]
  },
  {
   "cell_type": "code",
   "execution_count": 2,
   "metadata": {},
   "outputs": [],
   "source": [
    "\n",
    "# 確保 Val 資料夾存在\n",
    "os.makedirs(val_images_dir, exist_ok=True)\n",
    "os.makedirs(val_labels_dir, exist_ok=True)\n",
    "\n",
    "image_files = os.listdir(train_images_dir)\n",
    "num_images = len(image_files)\n",
    "num_val_images = int(num_images * 0.1)  # 10% 的檔案數量\n",
    "\n",
    "# 隨機選擇要移動的檔案\n",
    "val_image_files = random.sample(image_files, num_val_images)\n",
    "\n",
    "# 移動檔案\n",
    "for image_file in val_image_files:\n",
    "    image_name = os.path.splitext(image_file)[0]  # 取得檔案名稱 (不含副檔名)\n",
    "    label_file = image_name + \".txt\"  # 假設 label 檔案是 .txt 格式\n",
    "\n",
    "    shutil.move(os.path.join(train_images_dir, image_file), val_images_dir)\n",
    "    shutil.move(os.path.join(train_labels_dir, label_file), val_labels_dir)"
   ]
  },
  {
   "cell_type": "code",
   "execution_count": null,
   "metadata": {},
   "outputs": [],
   "source": []
  }
 ],
 "metadata": {
  "kernelspec": {
   "display_name": ".venv",
   "language": "python",
   "name": "python3"
  },
  "language_info": {
   "codemirror_mode": {
    "name": "ipython",
    "version": 3
   },
   "file_extension": ".py",
   "mimetype": "text/x-python",
   "name": "python",
   "nbconvert_exporter": "python",
   "pygments_lexer": "ipython3",
   "version": "3.10.12"
  }
 },
 "nbformat": 4,
 "nbformat_minor": 2
}
